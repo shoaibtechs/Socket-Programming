{
 "cells": [
  {
   "cell_type": "code",
   "execution_count": null,
   "id": "5f0b805d",
   "metadata": {},
   "outputs": [
    {
     "name": "stdout",
     "output_type": "stream",
     "text": [
      "Enter a message: Hello, My name is Muhammad Ali\n",
      "Server: Message received\n",
      "Enter a message: I want an admission in your cricket academy \n",
      "Server: Message received\n",
      "Enter a message: i want to become a legendary cricketer like you\n",
      "Server: Message received\n"
     ]
    }
   ],
   "source": [
    "import socket\n",
    "\n",
    "client = (\"127.0.0.1\", 9998)\n",
    "\n",
    "sock = socket.socket(socket.AF_INET, socket.SOCK_STREAM)\n",
    "sock.connect(client)\n",
    "\n",
    "while True:\n",
    "    msg = input(\"Enter a message: \")\n",
    "    sock.send(msg.encode())\n",
    "\n",
    "    response = sock.recv(1024).decode()\n",
    "    print(response)\n",
    "\n",
    "    if msg.lower() == \"bye\":\n",
    "        break\n",
    "\n",
    "sock.close()\n"
   ]
  },
  {
   "cell_type": "code",
   "execution_count": null,
   "id": "d48f314d",
   "metadata": {},
   "outputs": [],
   "source": []
  }
 ],
 "metadata": {
  "kernelspec": {
   "display_name": "Python 3 (ipykernel)",
   "language": "python",
   "name": "python3"
  },
  "language_info": {
   "codemirror_mode": {
    "name": "ipython",
    "version": 3
   },
   "file_extension": ".py",
   "mimetype": "text/x-python",
   "name": "python",
   "nbconvert_exporter": "python",
   "pygments_lexer": "ipython3",
   "version": "3.9.12"
  }
 },
 "nbformat": 4,
 "nbformat_minor": 5
}
