{
 "cells": [
  {
   "cell_type": "code",
   "execution_count": null,
   "id": "8fd98011",
   "metadata": {},
   "outputs": [
    {
     "name": "stdout",
     "output_type": "stream",
     "text": [
      "Client: Hello, My name is Muhammad Ali\n",
      "Client: I want an admission in your cricket academy \n",
      "Client: i want to become a legendary cricketer like you\n"
     ]
    }
   ],
   "source": [
    "import socket\n",
    "\n",
    "server = (\"127.0.0.1\", 9998)\n",
    "\n",
    "sock = socket.socket(socket.AF_INET, socket.SOCK_STREAM)\n",
    "sock.bind(server)\n",
    "sock.listen(1)\n",
    "\n",
    "client, addr = sock.accept()\n",
    "\n",
    "while True:\n",
    "    msg = client.recv(1024).decode()\n",
    "    if msg:\n",
    "        print(\"Client:\", msg)\n",
    "        response = \"Server: Message received\"\n",
    "        client.send(response.encode())\n",
    "    else:\n",
    "        break\n",
    "\n",
    "client.close()\n",
    "sock.close()\n"
   ]
  },
  {
   "cell_type": "code",
   "execution_count": null,
   "id": "a351b0e8",
   "metadata": {},
   "outputs": [],
   "source": []
  },
  {
   "cell_type": "code",
   "execution_count": null,
   "id": "d5aac7bf",
   "metadata": {},
   "outputs": [],
   "source": []
  }
 ],
 "metadata": {
  "kernelspec": {
   "display_name": "Python 3 (ipykernel)",
   "language": "python",
   "name": "python3"
  },
  "language_info": {
   "codemirror_mode": {
    "name": "ipython",
    "version": 3
   },
   "file_extension": ".py",
   "mimetype": "text/x-python",
   "name": "python",
   "nbconvert_exporter": "python",
   "pygments_lexer": "ipython3",
   "version": "3.9.12"
  }
 },
 "nbformat": 4,
 "nbformat_minor": 5
}
